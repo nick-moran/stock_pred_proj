{
 "cells": [
  {
   "cell_type": "code",
   "execution_count": 1,
   "metadata": {},
   "outputs": [
    {
     "name": "stderr",
     "output_type": "stream",
     "text": [
      "/home/nickmoran/miniconda3/envs/st/lib/python3.9/site-packages/tqdm/auto.py:21: TqdmWarning: IProgress not found. Please update jupyter and ipywidgets. See https://ipywidgets.readthedocs.io/en/stable/user_install.html\n",
      "  from .autonotebook import tqdm as notebook_tqdm\n"
     ]
    }
   ],
   "source": [
    "import pandas as pd\n",
    "import numpy as np\n",
    "from dataloaders.finbert_dataloaders import ValDataset\n",
    "import datetime\n",
    "\n",
    "from transformers import AutoTokenizer, AutoModelForSequenceClassification\n",
    "import torch\n",
    "from torch.utils.data import DataLoader\n",
    "from dataloaders.finbert_dataloaders import ValDataset\n",
    "import torch.nn as nn"
   ]
  },
  {
   "cell_type": "code",
   "execution_count": 2,
   "metadata": {},
   "outputs": [],
   "source": [
    "tweets = pd.read_csv(\"Tweet.csv\")\n",
    "company_tweet = pd.read_csv(\"Company_Tweet.csv\")\n",
    "aapl_tweet_ids = company_tweet[company_tweet['ticker_symbol'] == 'AAPL']\n",
    "ids = aapl_tweet_ids['tweet_id'].tolist()\n",
    "aapl_tweets = tweets[tweets['tweet_id'].isin(ids)]"
   ]
  },
  {
   "cell_type": "code",
   "execution_count": 3,
   "metadata": {},
   "outputs": [
    {
     "name": "stderr",
     "output_type": "stream",
     "text": [
      "/tmp/ipykernel_11193/2315667270.py:1: SettingWithCopyWarning: \n",
      "A value is trying to be set on a copy of a slice from a DataFrame.\n",
      "Try using .loc[row_indexer,col_indexer] = value instead\n",
      "\n",
      "See the caveats in the documentation: https://pandas.pydata.org/pandas-docs/stable/user_guide/indexing.html#returning-a-view-versus-a-copy\n",
      "  aapl_tweets['post_date'] = pd.to_datetime(aapl_tweets['post_date'].apply(lambda x: datetime.datetime.fromtimestamp(x).isoformat()))\n"
     ]
    }
   ],
   "source": [
    "aapl_tweets['post_date'] = pd.to_datetime(aapl_tweets['post_date'].apply(lambda x: datetime.datetime.fromtimestamp(x).isoformat()))\n",
    "mask = (aapl_tweets['post_date'] >= pd.to_datetime(1514790000, unit='s')) & (aapl_tweets['post_date'] <= pd.to_datetime(1546239600, unit='s'))\n",
    "time_tweets = aapl_tweets[mask]"
   ]
  },
  {
   "cell_type": "code",
   "execution_count": 5,
   "metadata": {},
   "outputs": [
    {
     "data": {
      "text/plain": [
       "(222646, 1425013)"
      ]
     },
     "execution_count": 5,
     "metadata": {},
     "output_type": "execute_result"
    }
   ],
   "source": [
    "len(time_tweets), len(aapl_tweets)"
   ]
  },
  {
   "cell_type": "code",
   "execution_count": 6,
   "metadata": {},
   "outputs": [
    {
     "data": {
      "text/plain": [
       "108605"
      ]
     },
     "execution_count": 6,
     "metadata": {},
     "output_type": "execute_result"
    }
   ],
   "source": [
    "hour_mask = (time_tweets['post_date'].dt.hour >= 9) & (time_tweets['post_date'].dt.hour <= 16)\n",
    "time_tweets = time_tweets[hour_mask]\n",
    "len(time_tweets)"
   ]
  },
  {
   "cell_type": "code",
   "execution_count": 7,
   "metadata": {},
   "outputs": [],
   "source": [
    "gb_date = time_tweets.groupby(time_tweets.post_date.dt.strftime('%y-%m-%d'))  "
   ]
  },
  {
   "cell_type": "code",
   "execution_count": 8,
   "metadata": {},
   "outputs": [],
   "source": [
    "num_tweets_per_day = gb_date.count()['tweet_id']\n",
    "idx = list(gb_date.indices.keys())"
   ]
  },
  {
   "cell_type": "code",
   "execution_count": 9,
   "metadata": {},
   "outputs": [],
   "source": [
    "m = num_tweets_per_day.rolling(20).mean()\n",
    "s = num_tweets_per_day.rolling(20).std()"
   ]
  },
  {
   "cell_type": "code",
   "execution_count": 10,
   "metadata": {},
   "outputs": [],
   "source": [
    "trading_days = num_tweets_per_day.to_numpy() > (m+s)"
   ]
  },
  {
   "cell_type": "code",
   "execution_count": 11,
   "metadata": {},
   "outputs": [
    {
     "data": {
      "text/plain": [
       "45"
      ]
     },
     "execution_count": 11,
     "metadata": {},
     "output_type": "execute_result"
    }
   ],
   "source": [
    "trading_date = np.array(idx)[trading_days == True]\n",
    "len(trading_date)"
   ]
  },
  {
   "cell_type": "code",
   "execution_count": 12,
   "metadata": {},
   "outputs": [],
   "source": [
    "device = torch.device(\"cuda\" if torch.cuda.is_available() else \"cpu\")\n",
    "if device == 'cuda':\n",
    "    print('cleaning cache')\n",
    "    torch.cuda.empty_cache()"
   ]
  },
  {
   "cell_type": "code",
   "execution_count": 13,
   "metadata": {},
   "outputs": [
    {
     "name": "stdout",
     "output_type": "stream",
     "text": [
      "ready!\n"
     ]
    }
   ],
   "source": [
    "tokenizer = AutoTokenizer.from_pretrained(\"ProsusAI/finbert\")\n",
    "\n",
    "# The model will give softmax outputs for three labels: positive, negative or neutral (in this order)\n",
    "model = AutoModelForSequenceClassification.from_pretrained(\"ProsusAI/finbert\")\n",
    "model = model.to(device=device)\n",
    "model.eval()\n",
    "print('ready!')"
   ]
  },
  {
   "cell_type": "code",
   "execution_count": 14,
   "metadata": {},
   "outputs": [],
   "source": [
    "def maj_sent(news_articles):\n",
    "    torch.cuda.empty_cache()        \n",
    "    tokens_encoding = tokenizer(news_articles,max_length=64, padding='max_length', truncation=True, return_tensors=\"pt\")\n",
    "    val_loader = ValDataset(tokens_encoding)\n",
    "    val_dataloader = DataLoader(val_loader, shuffle=False, batch_size=2)\n",
    "\n",
    "    softmax = nn.Softmax(dim=1)\n",
    "    \n",
    "    mood = []\n",
    "\n",
    "    for ids,attn_mask,ttype_ids in val_dataloader:\n",
    "        ids = ids.to(device=device)\n",
    "        attn_mask = attn_mask.to(device=device)\n",
    "        ttype_ids = ttype_ids.to(device=device)\n",
    "\n",
    "        output = model(input_ids=ids, attention_mask=attn_mask, token_type_ids=ttype_ids)\n",
    "        output = softmax(output.logits)\n",
    "     \n",
    "        s = output.argmax(dim=1).cpu().numpy()\n",
    "        s[s == 1] = -1\n",
    "        s[s == 0] = 1\n",
    "        s[s == 2] = 0\n",
    "\n",
    "        mood.extend(s)\n",
    "\n",
    "    return np.sign(sum(mood))\n"
   ]
  },
  {
   "cell_type": "code",
   "execution_count": 15,
   "metadata": {},
   "outputs": [],
   "source": [
    "date_format = '%y-%m-%d'\n",
    "date_format_chart = '%Y-%m-%d'"
   ]
  },
  {
   "cell_type": "code",
   "execution_count": 16,
   "metadata": {},
   "outputs": [],
   "source": [
    "chart = pd.read_csv(\"./charts/APPLE1440.csv\")\n",
    "chart['date'] = pd.to_datetime(chart['date'].apply(lambda x: datetime.datetime.strptime(x, date_format_chart)))"
   ]
  },
  {
   "cell_type": "code",
   "execution_count": 17,
   "metadata": {},
   "outputs": [
    {
     "name": "stdout",
     "output_type": "stream",
     "text": [
      "1/53\n",
      "2/53\n",
      "3/53\n",
      "4/53\n",
      "5/53\n",
      "6/53\n",
      "7/53\n",
      "8/53\n",
      "9/53\n",
      "10/53\n",
      "11/53\n",
      "12/53\n",
      "13/53\n",
      "14/53\n",
      "15/53\n",
      "16/53\n",
      "17/53\n",
      "18/53\n",
      "19/53\n",
      "20/53\n",
      "21/53\n",
      "22/53\n",
      "23/53\n",
      "24/53\n",
      "25/53\n",
      "26/53\n",
      "27/53\n",
      "28/53\n",
      "29/53\n",
      "30/53\n",
      "31/53\n",
      "32/53\n",
      "33/53\n",
      "34/53\n",
      "35/53\n",
      "36/53\n",
      "37/53\n",
      "38/53\n",
      "39/53\n",
      "40/53\n",
      "41/53\n",
      "42/53\n",
      "43/53\n",
      "44/53\n",
      "45/53\n",
      "ACC: 0.8222222222222222\n"
     ]
    }
   ],
   "source": [
    "pred = []\n",
    "ans = []\n",
    "for i, d in enumerate(trading_date):\n",
    "    date = datetime.datetime.strptime(d, date_format).strftime('%y-%m-%d')\n",
    "\n",
    "    #THIS HAS LOOKAHEAD BIAS!!! WE CANNOT USE THIS!\n",
    "    stk_mv = chart[chart['date'].dt.strftime('%y-%m-%d') == date]\n",
    "    \n",
    "    #if the market isn't open\n",
    "    if len(stk_mv) == 0:\n",
    "        print('market closed', date, stk_mv,)\n",
    "        break\n",
    "    \n",
    "    direction = np.sign(stk_mv['close'].values - stk_mv['open'].values)\n",
    "\n",
    "    mask = (time_tweets['post_date'].dt.strftime('%y-%m-%d') == date)\n",
    "    daily_tweets = time_tweets[mask]\n",
    "\n",
    "    sent = maj_sent(daily_tweets['body'].tolist())\n",
    "    \n",
    "    ans.extend(direction)\n",
    "    pred.append(sent)\n",
    "    print(f\"{i+1}/53\")\n",
    "\n",
    "acc = sum(np.array(pred) == np.array(ans)) / len(ans)\n",
    "print('ACC:',acc)\n",
    "# ACC: 0.8222222222222222 (tweets all hours)"
   ]
  },
  {
   "cell_type": "code",
   "execution_count": 19,
   "metadata": {},
   "outputs": [
    {
     "name": "stdout",
     "output_type": "stream",
     "text": [
      "1/53\n",
      "2/53\n",
      "3/53\n",
      "4/53\n",
      "5/53\n",
      "6/53\n",
      "7/53\n",
      "8/53\n",
      "9/53\n",
      "10/53\n",
      "11/53\n",
      "12/53\n",
      "13/53\n",
      "14/53\n",
      "15/53\n",
      "16/53\n",
      "17/53\n",
      "18/53\n",
      "19/53\n",
      "20/53\n",
      "21/53\n",
      "22/53\n",
      "23/53\n",
      "24/53\n",
      "25/53\n",
      "26/53\n",
      "27/53\n",
      "28/53\n",
      "29/53\n",
      "30/53\n",
      "31/53\n",
      "32/53\n",
      "33/53\n",
      "34/53\n",
      "35/53\n",
      "36/53\n",
      "37/53\n",
      "38/53\n",
      "39/53\n",
      "40/53\n",
      "41/53\n",
      "42/53\n",
      "43/53\n",
      "44/53\n",
      "45/53\n",
      "ACC: 0.5333333333333333\n"
     ]
    }
   ],
   "source": [
    "pred = []\n",
    "ans = []\n",
    "for i, d in enumerate(trading_date):\n",
    "    date = datetime.datetime.strptime(d, date_format).strftime('%y-%m-%d')\n",
    "\n",
    "    stk_idx = chart[chart['date'].dt.strftime('%y-%m-%d') == date].index.values\n",
    "    \n",
    "    #go forward one day so no lookahead bias\n",
    "    stk_mv = chart.iloc[stk_idx[0]+1]\n",
    "\n",
    "    #if the market isn't open\n",
    "    if len(stk_mv) == 0:\n",
    "        print('market closed', date, stk_mv,)\n",
    "        break\n",
    "    \n",
    "    direction = np.sign(stk_mv['close'] - stk_mv['open'])\n",
    " \n",
    "    mask = (time_tweets['post_date'].dt.strftime('%y-%m-%d') == date)\n",
    "    daily_tweets = time_tweets[mask]\n",
    "    sent = maj_sent(daily_tweets['body'].tolist())\n",
    "    \n",
    "    ans.append(direction)\n",
    "    pred.append(sent)\n",
    "    print(f\"{i+1}/53\")\n",
    "\n",
    "acc = sum(np.array(pred) == np.array(ans)) / len(ans)\n",
    "print('ACC:',acc)"
   ]
  },
  {
   "cell_type": "code",
   "execution_count": 19,
   "metadata": {},
   "outputs": [
    {
     "name": "stdout",
     "output_type": "stream",
     "text": [
      "1/53\n",
      "2/53\n",
      "3/53\n",
      "4/53\n",
      "5/53\n",
      "6/53\n",
      "7/53\n",
      "8/53\n",
      "9/53\n",
      "10/53\n",
      "11/53\n",
      "12/53\n",
      "13/53\n",
      "14/53\n",
      "15/53\n",
      "16/53\n",
      "17/53\n",
      "18/53\n",
      "19/53\n",
      "20/53\n",
      "21/53\n",
      "22/53\n",
      "23/53\n",
      "24/53\n",
      "25/53\n",
      "26/53\n",
      "27/53\n",
      "28/53\n",
      "29/53\n",
      "30/53\n",
      "31/53\n",
      "32/53\n",
      "33/53\n",
      "34/53\n",
      "35/53\n",
      "36/53\n",
      "37/53\n",
      "38/53\n",
      "39/53\n",
      "40/53\n",
      "41/53\n",
      "42/53\n",
      "43/53\n",
      "44/53\n",
      "45/53\n",
      "46/53\n",
      "47/53\n",
      "48/53\n",
      "49/53\n",
      "50/53\n",
      "51/53\n",
      "52/53\n",
      "53/53\n",
      "ACC: 0.5471698113207547\n"
     ]
    }
   ],
   "source": [
    "#THIS IS A BENCH MARK!\n",
    "pred = []\n",
    "ans = []\n",
    "for i, d in enumerate(trading_date):\n",
    "    date = datetime.datetime.strptime(d, date_format).strftime('%y-%m-%d')\n",
    "\n",
    "    stk_mv = chart[chart['date'].dt.strftime('%y-%m-%d') == date]\n",
    "    \n",
    "    #if the market isn't open\n",
    "    if len(stk_mv) == 0:\n",
    "        print('market closed', date, stk_mv,)\n",
    "        break\n",
    "    \n",
    "    direction = np.sign(stk_mv['close'].values - stk_mv['open'].values)\n",
    "\n",
    "    mask = (time_tweets['post_date'].dt.strftime('%y-%m-%d') == date)\n",
    "    daily_tweets = time_tweets[mask]\n",
    "\n",
    "    #always buy!!\n",
    "    sent = 1\n",
    "    \n",
    "    ans.extend(direction)\n",
    "    pred.append(sent)\n",
    "    print(f\"{i+1}/53\")\n",
    "\n",
    "acc = sum(np.array(pred) == np.array(ans)) / len(ans)\n",
    "print('ACC:',acc)\n",
    "# ACC: 0.7547169811320755 (tweets)"
   ]
  }
 ],
 "metadata": {
  "kernelspec": {
   "display_name": "st",
   "language": "python",
   "name": "python3"
  },
  "language_info": {
   "codemirror_mode": {
    "name": "ipython",
    "version": 3
   },
   "file_extension": ".py",
   "mimetype": "text/x-python",
   "name": "python",
   "nbconvert_exporter": "python",
   "pygments_lexer": "ipython3",
   "version": "3.9.16"
  },
  "orig_nbformat": 4
 },
 "nbformat": 4,
 "nbformat_minor": 2
}
