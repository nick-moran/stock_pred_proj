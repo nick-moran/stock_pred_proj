{
 "cells": [
  {
   "cell_type": "code",
   "execution_count": 1,
   "metadata": {},
   "outputs": [
    {
     "name": "stderr",
     "output_type": "stream",
     "text": [
      "/home/nickmoran/miniconda3/envs/st/lib/python3.9/site-packages/tqdm/auto.py:21: TqdmWarning: IProgress not found. Please update jupyter and ipywidgets. See https://ipywidgets.readthedocs.io/en/stable/user_install.html\n",
      "  from .autonotebook import tqdm as notebook_tqdm\n"
     ]
    }
   ],
   "source": [
    "import pandas as pd\n",
    "import numpy as np\n",
    "from dataloaders.finbert_dataloaders import ValDataset\n",
    "import datetime\n",
    "\n",
    "from transformers import AutoTokenizer, AutoModelForSequenceClassification\n",
    "import torch\n",
    "from torch.utils.data import DataLoader\n",
    "from dataloaders.finbert_dataloaders import ValDataset\n",
    "import torch.nn as nn"
   ]
  },
  {
   "cell_type": "code",
   "execution_count": 2,
   "metadata": {},
   "outputs": [],
   "source": [
    "tweets = pd.read_csv(\"Tweet.csv\")\n",
    "company_tweet = pd.read_csv(\"Company_Tweet.csv\")\n",
    "aapl_tweet_ids = company_tweet[company_tweet['ticker_symbol'] == 'AAPL']\n",
    "ids = aapl_tweet_ids['tweet_id'].tolist()\n",
    "aapl_tweets = tweets[tweets['tweet_id'].isin(ids)]"
   ]
  },
  {
   "cell_type": "code",
   "execution_count": 3,
   "metadata": {},
   "outputs": [
    {
     "name": "stderr",
     "output_type": "stream",
     "text": [
      "/tmp/ipykernel_16454/2315667270.py:1: SettingWithCopyWarning: \n",
      "A value is trying to be set on a copy of a slice from a DataFrame.\n",
      "Try using .loc[row_indexer,col_indexer] = value instead\n",
      "\n",
      "See the caveats in the documentation: https://pandas.pydata.org/pandas-docs/stable/user_guide/indexing.html#returning-a-view-versus-a-copy\n",
      "  aapl_tweets['post_date'] = pd.to_datetime(aapl_tweets['post_date'].apply(lambda x: datetime.datetime.fromtimestamp(x).isoformat()))\n"
     ]
    }
   ],
   "source": [
    "aapl_tweets['post_date'] = pd.to_datetime(aapl_tweets['post_date'].apply(lambda x: datetime.datetime.fromtimestamp(x).isoformat()))\n",
    "mask = (aapl_tweets['post_date'] >= pd.to_datetime(1514790000, unit='s')) & (aapl_tweets['post_date'] <= pd.to_datetime(1546239600, unit='s'))\n",
    "time_tweets = aapl_tweets[mask]"
   ]
  },
  {
   "cell_type": "code",
   "execution_count": 4,
   "metadata": {},
   "outputs": [
    {
     "data": {
      "text/plain": [
       "(222646, 1425013)"
      ]
     },
     "execution_count": 4,
     "metadata": {},
     "output_type": "execute_result"
    }
   ],
   "source": [
    "len(time_tweets), len(aapl_tweets)"
   ]
  },
  {
   "cell_type": "code",
   "execution_count": 5,
   "metadata": {},
   "outputs": [
    {
     "data": {
      "text/plain": [
       "48421"
      ]
     },
     "execution_count": 5,
     "metadata": {},
     "output_type": "execute_result"
    }
   ],
   "source": [
    "hour_mask = (time_tweets['post_date'].dt.hour >= 9) & (time_tweets['post_date'].dt.hour <= 11)\n",
    "time_tweets = time_tweets[hour_mask]\n",
    "len(time_tweets)"
   ]
  },
  {
   "cell_type": "code",
   "execution_count": 6,
   "metadata": {},
   "outputs": [],
   "source": [
    "gb_date = time_tweets.groupby(time_tweets.post_date.dt.strftime('%y-%m-%d'))  "
   ]
  },
  {
   "cell_type": "code",
   "execution_count": 7,
   "metadata": {},
   "outputs": [],
   "source": [
    "num_tweets_per_day = gb_date.count()['tweet_id']\n",
    "idx = list(gb_date.indices.keys())"
   ]
  },
  {
   "cell_type": "code",
   "execution_count": 8,
   "metadata": {},
   "outputs": [],
   "source": [
    "m = num_tweets_per_day.rolling(20).mean()\n",
    "s = num_tweets_per_day.rolling(20).std()"
   ]
  },
  {
   "cell_type": "code",
   "execution_count": 9,
   "metadata": {},
   "outputs": [],
   "source": [
    "trading_days = num_tweets_per_day.to_numpy() > (m+s)"
   ]
  },
  {
   "cell_type": "code",
   "execution_count": 10,
   "metadata": {},
   "outputs": [
    {
     "data": {
      "text/plain": [
       "45"
      ]
     },
     "execution_count": 10,
     "metadata": {},
     "output_type": "execute_result"
    }
   ],
   "source": [
    "trading_date = np.array(idx)[trading_days == True]\n",
    "len(trading_date)"
   ]
  },
  {
   "cell_type": "code",
   "execution_count": 11,
   "metadata": {},
   "outputs": [],
   "source": [
    "device = torch.device(\"cuda\" if torch.cuda.is_available() else \"cpu\")\n",
    "if device == 'cuda':\n",
    "    print('cleaning cache')\n",
    "    torch.cuda.empty_cache()"
   ]
  },
  {
   "cell_type": "code",
   "execution_count": 12,
   "metadata": {},
   "outputs": [
    {
     "name": "stdout",
     "output_type": "stream",
     "text": [
      "ready!\n"
     ]
    }
   ],
   "source": [
    "tokenizer = AutoTokenizer.from_pretrained(\"ProsusAI/finbert\")\n",
    "\n",
    "# The model will give softmax outputs for three labels: positive, negative or neutral (in this order)\n",
    "model = AutoModelForSequenceClassification.from_pretrained(\"ProsusAI/finbert\")\n",
    "model = model.to(device=device)\n",
    "model.eval()\n",
    "print('ready!')"
   ]
  },
  {
   "cell_type": "code",
   "execution_count": 13,
   "metadata": {},
   "outputs": [],
   "source": [
    "def maj_sent(news_articles):\n",
    "    torch.cuda.empty_cache()        \n",
    "    tokens_encoding = tokenizer(news_articles,max_length=64, padding='max_length', truncation=True, return_tensors=\"pt\")\n",
    "    val_loader = ValDataset(tokens_encoding)\n",
    "    val_dataloader = DataLoader(val_loader, shuffle=False, batch_size=2)\n",
    "\n",
    "    softmax = nn.Softmax(dim=1)\n",
    "    \n",
    "    mood = []\n",
    "\n",
    "    for ids,attn_mask,ttype_ids in val_dataloader:\n",
    "        ids = ids.to(device=device)\n",
    "        attn_mask = attn_mask.to(device=device)\n",
    "        ttype_ids = ttype_ids.to(device=device)\n",
    "\n",
    "        output = model(input_ids=ids, attention_mask=attn_mask, token_type_ids=ttype_ids)\n",
    "        output = softmax(output.logits)\n",
    "     \n",
    "        s = output.argmax(dim=1).cpu().numpy()\n",
    "        s[s == 1] = -1\n",
    "        s[s == 0] = 1\n",
    "        s[s == 2] = 0\n",
    "\n",
    "        mood.extend(s)\n",
    "\n",
    "    return np.sign(sum(mood))\n"
   ]
  },
  {
   "cell_type": "code",
   "execution_count": 14,
   "metadata": {},
   "outputs": [],
   "source": [
    "date_format = '%y-%m-%d'\n",
    "date_format_chart = '%Y-%m-%d'"
   ]
  },
  {
   "cell_type": "code",
   "execution_count": 15,
   "metadata": {},
   "outputs": [],
   "source": [
    "chart = pd.read_csv(\"./charts/APPLE1440.csv\")\n",
    "chart['date'] = pd.to_datetime(chart['date'].apply(lambda x: datetime.datetime.strptime(x, date_format_chart)))"
   ]
  },
  {
   "cell_type": "code",
   "execution_count": 16,
   "metadata": {},
   "outputs": [],
   "source": [
    "hourly_chart = pd.read_csv(\"./charts/APPLE60.csv\")\n",
    "stock_time_format = '%H:%M'\n",
    "dtime_gen = lambda x,y: datetime.datetime.combine(x,y.time())\n",
    "\n",
    "# hourly_chart['time'] = hourly_chart['time'].apply(lambda x:  datetime.datetime.strptime(x, stock_time_format))\n",
    "hourly_chart['date'] = hourly_chart['date'].apply(lambda x:  datetime.datetime.strptime(x, date_format_chart))\n",
    "\n",
    "# hourly_chart['dtime'] = hourly_chart.apply(lambda x: dtime_gen(x.date, x.time), axis=1)"
   ]
  },
  {
   "cell_type": "code",
   "execution_count": 17,
   "metadata": {},
   "outputs": [
    {
     "name": "stdout",
     "output_type": "stream",
     "text": [
      "ACC: 0.6666666666666666\n"
     ]
    }
   ],
   "source": [
    "pred = []\n",
    "ans = []\n",
    "pnl = []\n",
    "\n",
    "for i, d in enumerate(trading_date):\n",
    "    date = datetime.datetime.strptime(d, date_format).strftime('%y-%m-%d')\n",
    "\n",
    "    stk_mv = chart[chart['date'].dt.strftime('%y-%m-%d') == date]\n",
    "    stk_mv_idx = chart[chart['date'].dt.strftime('%y-%m-%d') == date].index\n",
    "\n",
    "    next_day = chart.iloc[stk_mv_idx[0] + 1]\n",
    "    \n",
    "    hr_start = hourly_chart[hourly_chart['date'].dt.strftime('%y-%m-%d') == date]\n",
    "    hr_start = hr_start[hr_start['time'] == '15:30']\n",
    "    \n",
    "    #if the market isn't open\n",
    "    if len(stk_mv) == 0:\n",
    "        print('market closed', date, stk_mv,)\n",
    "        break\n",
    "    \n",
    "    # direction = np.sign(stk_mv['close'].values - hr_start['open'].values)\n",
    "    direction = np.sign(next_day['close'] - hr_start['open'].values)\n",
    "\n",
    "    \n",
    "    # pnl.append([hr_start['open'].values, stk_mv['close']])\n",
    "    pnl.append([hr_start['open'].values[0], next_day['close']])\n",
    "\n",
    "    \n",
    "    mask = (time_tweets['post_date'].dt.strftime('%y-%m-%d') == date)\n",
    "    daily_tweets = time_tweets[mask]\n",
    "\n",
    "    sent = maj_sent(daily_tweets['body'].tolist())\n",
    "    \n",
    "    ans.extend(direction)\n",
    "    pred.append(sent)\n",
    "\n",
    "acc = sum(np.array(pred) == np.array(ans)) / len(ans)\n",
    "print('ACC:',acc)\n",
    "# ACC: 0.82 (tweets full lookahead)\n",
    "# ACC: 0.6666666666666666 (tweets no lookhead, cutoff @ 12pm)\n",
    "# ACC: 0.5531914893617021 (tweets no lookhead, cutoff @ 2pm)\n",
    "# ACC: 0.7555555555555555 (tweets no lookhead, cutoff @ 11am) (15:30 here, 11am in mask)\n",
    "# ACC: 0.673469387755102 (tweets no lookhead, cutoff @ 10am) (14:30 here, 10am in mask)"
   ]
  },
  {
   "cell_type": "code",
   "execution_count": 18,
   "metadata": {},
   "outputs": [
    {
     "data": {
      "text/plain": [
       "array([[175.23, 171.3 ],\n",
       "       [172.81, 171.4 ],\n",
       "       [170.67, 167.9 ],\n",
       "       [167.96, 167.05],\n",
       "       [167.17, 166.56],\n",
       "       [163.68, 156.  ],\n",
       "       [177.78, 178.35],\n",
       "       [179.13, 176.19],\n",
       "       [174.03, 168.78],\n",
       "       [169.65, 164.98],\n",
       "       [173.42, 166.68],\n",
       "       [166.92, 168.38],\n",
       "       [166.83, 165.12],\n",
       "       [166.58, 163.  ],\n",
       "       [166.9 , 176.36],\n",
       "       [176.03, 176.92],\n",
       "       [182.95, 185.  ],\n",
       "       [189.4 , 191.88],\n",
       "       [192.13, 193.12],\n",
       "       [184.87, 184.08],\n",
       "       [192.19, 191.12],\n",
       "       [193.8 , 189.98],\n",
       "       [189.74, 195.64],\n",
       "       [200.88, 207.42],\n",
       "       [206.4 , 207.98],\n",
       "       [219.47, 223.22],\n",
       "       [223.83, 227.52],\n",
       "       [228.63, 226.88],\n",
       "       [221.13, 221.03],\n",
       "       [222.2 , 226.61],\n",
       "       [224.46, 223.95],\n",
       "       [217.75, 219.24],\n",
       "       [219.88, 220.52],\n",
       "       [215.85, 211.8 ],\n",
       "       [217.91, 214.1 ],\n",
       "       [213.78, 218.7 ],\n",
       "       [219.77, 212.99],\n",
       "       [207.28, 201.53],\n",
       "       [198.64, 204.  ],\n",
       "       [195.83, 192.61],\n",
       "       [189.93, 190.69],\n",
       "       [173.56, 174.61],\n",
       "       [171.9 , 170.03],\n",
       "       [165.6 , 168.23],\n",
       "       [160.47, 150.78]])"
      ]
     },
     "execution_count": 18,
     "metadata": {},
     "output_type": "execute_result"
    }
   ],
   "source": [
    "pnl = np.array(pnl)\n",
    "pnl2 = pnl\n",
    "pnl"
   ]
  },
  {
   "cell_type": "code",
   "execution_count": 19,
   "metadata": {},
   "outputs": [],
   "source": [
    "delta = pnl2[:,1] - pnl2[:,0] #close - open "
   ]
  },
  {
   "cell_type": "code",
   "execution_count": 20,
   "metadata": {},
   "outputs": [
    {
     "data": {
      "text/plain": [
       "array([ 3.93,  1.41,  2.77,  0.91,  0.61,  7.68,  0.57,  2.94,  5.25,\n",
       "       -4.67,  6.74, -1.46,  1.71,  3.58,  9.46,  0.89,  2.05,  2.48,\n",
       "        0.99,  0.79, -1.07,  3.82, -5.9 ,  6.54,  1.58,  3.75,  3.69,\n",
       "       -1.75, -0.1 ,  4.41,  0.51, -1.49, -0.64, -4.05,  3.81, -4.92,\n",
       "       -6.78,  5.75, -5.36,  3.22, -0.76, -1.05,  1.87, -2.63,  9.69])"
      ]
     },
     "execution_count": 20,
     "metadata": {},
     "output_type": "execute_result"
    }
   ],
   "source": [
    "win = np.array(pred)*delta\n",
    "win"
   ]
  },
  {
   "cell_type": "code",
   "execution_count": 21,
   "metadata": {},
   "outputs": [
    {
     "data": {
      "text/plain": [
       "(9.689999999999998, -6.780000000000001, 1.4099999999999966, 1.3504444444444441)"
      ]
     },
     "execution_count": 21,
     "metadata": {},
     "output_type": "execute_result"
    }
   ],
   "source": [
    "max(win),min(win), np.median(win), np.mean(win)"
   ]
  },
  {
   "cell_type": "code",
   "execution_count": 22,
   "metadata": {},
   "outputs": [],
   "source": [
    "import matplotlib.pyplot as plt"
   ]
  },
  {
   "cell_type": "code",
   "execution_count": 35,
   "metadata": {},
   "outputs": [],
   "source": [
    "def roi(starting, prec):\n",
    "  ret = []\n",
    "\n",
    "  for p in prec:\n",
    "    cash = starting\n",
    "    cost = 0\n",
    "    r = [0]\n",
    "    l = 0\n",
    "\n",
    "    for i in range(len(win)):\n",
    "      cash2trade = cash * p #percentage of the portfolio \n",
    "\n",
    "      stocks = cash2trade // pnl2[i][0]\n",
    "      \n",
    "      attmt = win[i] / pnl2[i][0]\n",
    "      # if it goes down half a percent or more... cash out (stop loss)\n",
    "      if attmt <= -0.005:\n",
    "         r.append(r[-1] + -0.005)\n",
    "         cash += -0.005*pnl2[i][0]*stocks\n",
    "         continue\n",
    "            \n",
    "      cash += win[i]*stocks\n",
    "\n",
    "\n",
    "      r.append(r[-1] + (win[i])/(pnl2[i][0])) \n",
    "      \n",
    "      if cash <= 0:\n",
    "          break\n",
    "    \n",
    "    ret.append([r, cash-starting])\n",
    "    # ret.append((cash-starting))\n",
    "\n",
    "\n",
    "  return r"
   ]
  },
  {
   "cell_type": "code",
   "execution_count": 37,
   "metadata": {},
   "outputs": [
    {
     "name": "stdout",
     "output_type": "stream",
     "text": [
      "[0, 0.022427666495462982, 0.03058691653886323, 0.04681706829371166, 0.05223502495005839, 0.055884005030216226, 0.10280482614458578, 0.1060110360669617, 0.1224236972627413, 0.15259090981230172, 0.14759090981230172, 0.18645609260552037, 0.18145609260552037, 0.19170604764957724, 0.21319722306079114, 0.2698778701548595, 0.2749338265259325, 0.2861390738612701, 0.29923305485387824, 0.3043858160051821, 0.3086590891160167, 0.3036590891160167, 0.3233701314276783, 0.3183701314276783, 0.35092688172636405, 0.3585819204860539, 0.3756685382470235, 0.3921542640210484, 0.3871542640210484, 0.3867020413466035, 0.4065490260450735, 0.40882114579915, 0.40382114579915, 0.4009104672472125, 0.3959104672472125, 0.41339474974916285, 0.40839474974916284, 0.40339474974916284, 0.4311350044770671, 0.4261350044770671, 0.44257783754656616, 0.4385763633192193, 0.4335763633192193, 0.4444547810039197, 0.4394547810039197, 0.499839899717698]\n"
     ]
    },
    {
     "data": {
      "text/plain": [
       "Text(0.5, 1.0, 'Daily PNL of trading')"
      ]
     },
     "execution_count": 37,
     "metadata": {},
     "output_type": "execute_result"
    },
    {
     "data": {
      "image/png": "[encoded data removed]",
      "text/plain": [
       "<Figure size 640x480 with 1 Axes>"
      ]
     },
     "metadata": {},
     "output_type": "display_data"
    }
   ],
   "source": [
    "# prec = [0.05, 0.1, 0.25, 0.5, 0.75, 1]\n",
    "prec = [1]\n",
    "rets = roi(10000, prec)\n",
    "print(rets)\n",
    "plt.plot(rets)\n",
    "plt.ylabel('Daily PNL')\n",
    "plt.xlabel('days of trading')\n",
    "plt.title(\"Daily PNL of trading\")\n",
    "# rets = np.array(rets)\n",
    "# ret_df = pd.DataFrame(rets, columns=['ROI, investing $10000', 'Raw profit from investing $10000'], index=[str(p) for p in prec])\n",
    "# ax = ret_df.plot.bar(subplots=True, color={\"ROI, investing $10000\": \"blue\", \"Raw profit from investing $10000\": \"green\"}, legend=False)\n",
    "\n",
    "# plt.show()"
   ]
  },
  {
   "cell_type": "code",
   "execution_count": null,
   "metadata": {},
   "outputs": [],
   "source": []
  }
 ],
 "metadata": {
  "kernelspec": {
   "display_name": "st",
   "language": "python",
   "name": "python3"
  },
  "language_info": {
   "codemirror_mode": {
    "name": "ipython",
    "version": 3
   },
   "file_extension": ".py",
   "mimetype": "text/x-python",
   "name": "python",
   "nbconvert_exporter": "python",
   "pygments_lexer": "ipython3",
   "version": "3.9.16"
  },
  "orig_nbformat": 4
 },
 "nbformat": 4,
 "nbformat_minor": 2
}
