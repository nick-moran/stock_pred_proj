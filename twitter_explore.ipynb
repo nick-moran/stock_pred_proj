{
 "cells": [
  {
   "cell_type": "code",
   "execution_count": 1,
   "metadata": {},
   "outputs": [],
   "source": [
    "import pandas as pd\n",
    "import numpy as np"
   ]
  },
  {
   "cell_type": "code",
   "execution_count": 2,
   "metadata": {},
   "outputs": [
    {
     "data": {
      "text/html": [
       "<div>\n",
       "<style scoped>\n",
       "    .dataframe tbody tr th:only-of-type {\n",
       "        vertical-align: middle;\n",
       "    }\n",
       "\n",
       "    .dataframe tbody tr th {\n",
       "        vertical-align: top;\n",
       "    }\n",
       "\n",
       "    .dataframe thead th {\n",
       "        text-align: right;\n",
       "    }\n",
       "</style>\n",
       "<table border=\"1\" class=\"dataframe\">\n",
       "  <thead>\n",
       "    <tr style=\"text-align: right;\">\n",
       "      <th></th>\n",
       "      <th>tweet_id</th>\n",
       "      <th>writer</th>\n",
       "      <th>post_date</th>\n",
       "      <th>body</th>\n",
       "      <th>comment_num</th>\n",
       "      <th>retweet_num</th>\n",
       "      <th>like_num</th>\n",
       "    </tr>\n",
       "  </thead>\n",
       "  <tbody>\n",
       "    <tr>\n",
       "      <th>0</th>\n",
       "      <td>550441509175443456</td>\n",
       "      <td>VisualStockRSRC</td>\n",
       "      <td>1420070457</td>\n",
       "      <td>lx21 made $10,008  on $AAPL -Check it out! htt...</td>\n",
       "      <td>0</td>\n",
       "      <td>0</td>\n",
       "      <td>1</td>\n",
       "    </tr>\n",
       "    <tr>\n",
       "      <th>1</th>\n",
       "      <td>550441672312512512</td>\n",
       "      <td>KeralaGuy77</td>\n",
       "      <td>1420070496</td>\n",
       "      <td>Insanity of today weirdo massive selling. $aap...</td>\n",
       "      <td>0</td>\n",
       "      <td>0</td>\n",
       "      <td>0</td>\n",
       "    </tr>\n",
       "    <tr>\n",
       "      <th>2</th>\n",
       "      <td>550441732014223360</td>\n",
       "      <td>DozenStocks</td>\n",
       "      <td>1420070510</td>\n",
       "      <td>S&amp;P100 #Stocks Performance $HD $LOW $SBUX $TGT...</td>\n",
       "      <td>0</td>\n",
       "      <td>0</td>\n",
       "      <td>0</td>\n",
       "    </tr>\n",
       "    <tr>\n",
       "      <th>3</th>\n",
       "      <td>550442977802207232</td>\n",
       "      <td>ShowDreamCar</td>\n",
       "      <td>1420070807</td>\n",
       "      <td>$GM $TSLA: Volkswagen Pushes 2014 Record Recal...</td>\n",
       "      <td>0</td>\n",
       "      <td>0</td>\n",
       "      <td>1</td>\n",
       "    </tr>\n",
       "    <tr>\n",
       "      <th>4</th>\n",
       "      <td>550443807834402816</td>\n",
       "      <td>i_Know_First</td>\n",
       "      <td>1420071005</td>\n",
       "      <td>Swing Trading: Up To 8.91% Return In 14 Days h...</td>\n",
       "      <td>0</td>\n",
       "      <td>0</td>\n",
       "      <td>1</td>\n",
       "    </tr>\n",
       "    <tr>\n",
       "      <th>...</th>\n",
       "      <td>...</td>\n",
       "      <td>...</td>\n",
       "      <td>...</td>\n",
       "      <td>...</td>\n",
       "      <td>...</td>\n",
       "      <td>...</td>\n",
       "      <td>...</td>\n",
       "    </tr>\n",
       "    <tr>\n",
       "      <th>3717959</th>\n",
       "      <td>1212159765914079234</td>\n",
       "      <td>TEEELAZER</td>\n",
       "      <td>1577836383</td>\n",
       "      <td>That $SPY $SPX puuump in the last hour was the...</td>\n",
       "      <td>1</td>\n",
       "      <td>0</td>\n",
       "      <td>6</td>\n",
       "    </tr>\n",
       "    <tr>\n",
       "      <th>3717960</th>\n",
       "      <td>1212159838882533376</td>\n",
       "      <td>ShortingIsFun</td>\n",
       "      <td>1577836401</td>\n",
       "      <td>In 2020 I may start Tweeting out positive news...</td>\n",
       "      <td>0</td>\n",
       "      <td>0</td>\n",
       "      <td>1</td>\n",
       "    </tr>\n",
       "    <tr>\n",
       "      <th>3717961</th>\n",
       "      <td>1212160015332728833</td>\n",
       "      <td>Commuternyc</td>\n",
       "      <td>1577836443</td>\n",
       "      <td>Patiently Waiting for the no twitter sitter tw...</td>\n",
       "      <td>0</td>\n",
       "      <td>0</td>\n",
       "      <td>5</td>\n",
       "    </tr>\n",
       "    <tr>\n",
       "      <th>3717962</th>\n",
       "      <td>1212160410692046849</td>\n",
       "      <td>MoriaCrypto</td>\n",
       "      <td>1577836537</td>\n",
       "      <td>I don't discriminate. I own both $aapl and $ms...</td>\n",
       "      <td>1</td>\n",
       "      <td>0</td>\n",
       "      <td>1</td>\n",
       "    </tr>\n",
       "    <tr>\n",
       "      <th>3717963</th>\n",
       "      <td>1212160477159206912</td>\n",
       "      <td>treabase</td>\n",
       "      <td>1577836553</td>\n",
       "      <td>$AAPL #patent 10,522,475 Vertical interconnect...</td>\n",
       "      <td>0</td>\n",
       "      <td>0</td>\n",
       "      <td>0</td>\n",
       "    </tr>\n",
       "  </tbody>\n",
       "</table>\n",
       "<p>3717964 rows × 7 columns</p>\n",
       "</div>"
      ],
      "text/plain": [
       "                    tweet_id           writer   post_date  \\\n",
       "0         550441509175443456  VisualStockRSRC  1420070457   \n",
       "1         550441672312512512      KeralaGuy77  1420070496   \n",
       "2         550441732014223360      DozenStocks  1420070510   \n",
       "3         550442977802207232     ShowDreamCar  1420070807   \n",
       "4         550443807834402816     i_Know_First  1420071005   \n",
       "...                      ...              ...         ...   \n",
       "3717959  1212159765914079234        TEEELAZER  1577836383   \n",
       "3717960  1212159838882533376    ShortingIsFun  1577836401   \n",
       "3717961  1212160015332728833      Commuternyc  1577836443   \n",
       "3717962  1212160410692046849      MoriaCrypto  1577836537   \n",
       "3717963  1212160477159206912         treabase  1577836553   \n",
       "\n",
       "                                                      body  comment_num  \\\n",
       "0        lx21 made $10,008  on $AAPL -Check it out! htt...            0   \n",
       "1        Insanity of today weirdo massive selling. $aap...            0   \n",
       "2        S&P100 #Stocks Performance $HD $LOW $SBUX $TGT...            0   \n",
       "3        $GM $TSLA: Volkswagen Pushes 2014 Record Recal...            0   \n",
       "4        Swing Trading: Up To 8.91% Return In 14 Days h...            0   \n",
       "...                                                    ...          ...   \n",
       "3717959  That $SPY $SPX puuump in the last hour was the...            1   \n",
       "3717960  In 2020 I may start Tweeting out positive news...            0   \n",
       "3717961  Patiently Waiting for the no twitter sitter tw...            0   \n",
       "3717962  I don't discriminate. I own both $aapl and $ms...            1   \n",
       "3717963  $AAPL #patent 10,522,475 Vertical interconnect...            0   \n",
       "\n",
       "         retweet_num  like_num  \n",
       "0                  0         1  \n",
       "1                  0         0  \n",
       "2                  0         0  \n",
       "3                  0         1  \n",
       "4                  0         1  \n",
       "...              ...       ...  \n",
       "3717959            0         6  \n",
       "3717960            0         1  \n",
       "3717961            0         5  \n",
       "3717962            0         1  \n",
       "3717963            0         0  \n",
       "\n",
       "[3717964 rows x 7 columns]"
      ]
     },
     "execution_count": 2,
     "metadata": {},
     "output_type": "execute_result"
    }
   ],
   "source": [
    "tweets = pd.read_csv(\"Tweet.csv\")\n",
    "tweets"
   ]
  },
  {
   "cell_type": "code",
   "execution_count": 4,
   "metadata": {},
   "outputs": [],
   "source": [
    "companies = pd.read_csv(\"Company.csv\")"
   ]
  },
  {
   "cell_type": "code",
   "execution_count": 5,
   "metadata": {},
   "outputs": [],
   "source": [
    "company_tweet = pd.read_csv(\"Company_Tweet.csv\")"
   ]
  },
  {
   "cell_type": "code",
   "execution_count": 9,
   "metadata": {},
   "outputs": [
    {
     "data": {
      "text/plain": [
       "(550803612197457920, 1425013)"
      ]
     },
     "execution_count": 9,
     "metadata": {},
     "output_type": "execute_result"
    }
   ],
   "source": [
    "aapl_tweet_ids = company_tweet[company_tweet['ticker_symbol'] == 'AAPL']\n",
    "ids = aapl_tweet_ids['tweet_id'].tolist()\n",
    "ids[0], len(ids)"
   ]
  },
  {
   "cell_type": "code",
   "execution_count": 11,
   "metadata": {},
   "outputs": [
    {
     "data": {
      "text/html": [
       "<div>\n",
       "<style scoped>\n",
       "    .dataframe tbody tr th:only-of-type {\n",
       "        vertical-align: middle;\n",
       "    }\n",
       "\n",
       "    .dataframe tbody tr th {\n",
       "        vertical-align: top;\n",
       "    }\n",
       "\n",
       "    .dataframe thead th {\n",
       "        text-align: right;\n",
       "    }\n",
       "</style>\n",
       "<table border=\"1\" class=\"dataframe\">\n",
       "  <thead>\n",
       "    <tr style=\"text-align: right;\">\n",
       "      <th></th>\n",
       "      <th>tweet_id</th>\n",
       "      <th>writer</th>\n",
       "      <th>post_date</th>\n",
       "      <th>body</th>\n",
       "      <th>comment_num</th>\n",
       "      <th>retweet_num</th>\n",
       "      <th>like_num</th>\n",
       "    </tr>\n",
       "  </thead>\n",
       "  <tbody>\n",
       "    <tr>\n",
       "      <th>0</th>\n",
       "      <td>550441509175443456</td>\n",
       "      <td>VisualStockRSRC</td>\n",
       "      <td>1420070457</td>\n",
       "      <td>lx21 made $10,008  on $AAPL -Check it out! htt...</td>\n",
       "      <td>0</td>\n",
       "      <td>0</td>\n",
       "      <td>1</td>\n",
       "    </tr>\n",
       "    <tr>\n",
       "      <th>1</th>\n",
       "      <td>550441672312512512</td>\n",
       "      <td>KeralaGuy77</td>\n",
       "      <td>1420070496</td>\n",
       "      <td>Insanity of today weirdo massive selling. $aap...</td>\n",
       "      <td>0</td>\n",
       "      <td>0</td>\n",
       "      <td>0</td>\n",
       "    </tr>\n",
       "    <tr>\n",
       "      <th>4</th>\n",
       "      <td>550443807834402816</td>\n",
       "      <td>i_Know_First</td>\n",
       "      <td>1420071005</td>\n",
       "      <td>Swing Trading: Up To 8.91% Return In 14 Days h...</td>\n",
       "      <td>0</td>\n",
       "      <td>0</td>\n",
       "      <td>1</td>\n",
       "    </tr>\n",
       "    <tr>\n",
       "      <th>5</th>\n",
       "      <td>550443808606126081</td>\n",
       "      <td>aaplstocknews</td>\n",
       "      <td>1420071005</td>\n",
       "      <td>Swing Trading: Up To 8.91% Return In 14 Days h...</td>\n",
       "      <td>0</td>\n",
       "      <td>0</td>\n",
       "      <td>1</td>\n",
       "    </tr>\n",
       "    <tr>\n",
       "      <th>6</th>\n",
       "      <td>550443809700851716</td>\n",
       "      <td>iknowfirst</td>\n",
       "      <td>1420071005</td>\n",
       "      <td>Swing Trading: Up To 8.91% Return In 14 Days h...</td>\n",
       "      <td>0</td>\n",
       "      <td>0</td>\n",
       "      <td>1</td>\n",
       "    </tr>\n",
       "    <tr>\n",
       "      <th>...</th>\n",
       "      <td>...</td>\n",
       "      <td>...</td>\n",
       "      <td>...</td>\n",
       "      <td>...</td>\n",
       "      <td>...</td>\n",
       "      <td>...</td>\n",
       "      <td>...</td>\n",
       "    </tr>\n",
       "    <tr>\n",
       "      <th>3717957</th>\n",
       "      <td>1212159254884433921</td>\n",
       "      <td>QuantWolfLine</td>\n",
       "      <td>1577836261</td>\n",
       "      <td>Imagine calling your broker-dealer and wanting...</td>\n",
       "      <td>1</td>\n",
       "      <td>0</td>\n",
       "      <td>1</td>\n",
       "    </tr>\n",
       "    <tr>\n",
       "      <th>3717958</th>\n",
       "      <td>1212159275637886976</td>\n",
       "      <td>GMGRIFF_79</td>\n",
       "      <td>1577836266</td>\n",
       "      <td>$AAPL yearly~ Heck of a year.. Jan. 2, 1999~ar...</td>\n",
       "      <td>0</td>\n",
       "      <td>0</td>\n",
       "      <td>1</td>\n",
       "    </tr>\n",
       "    <tr>\n",
       "      <th>3717959</th>\n",
       "      <td>1212159765914079234</td>\n",
       "      <td>TEEELAZER</td>\n",
       "      <td>1577836383</td>\n",
       "      <td>That $SPY $SPX puuump in the last hour was the...</td>\n",
       "      <td>1</td>\n",
       "      <td>0</td>\n",
       "      <td>6</td>\n",
       "    </tr>\n",
       "    <tr>\n",
       "      <th>3717962</th>\n",
       "      <td>1212160410692046849</td>\n",
       "      <td>MoriaCrypto</td>\n",
       "      <td>1577836537</td>\n",
       "      <td>I don't discriminate. I own both $aapl and $ms...</td>\n",
       "      <td>1</td>\n",
       "      <td>0</td>\n",
       "      <td>1</td>\n",
       "    </tr>\n",
       "    <tr>\n",
       "      <th>3717963</th>\n",
       "      <td>1212160477159206912</td>\n",
       "      <td>treabase</td>\n",
       "      <td>1577836553</td>\n",
       "      <td>$AAPL #patent 10,522,475 Vertical interconnect...</td>\n",
       "      <td>0</td>\n",
       "      <td>0</td>\n",
       "      <td>0</td>\n",
       "    </tr>\n",
       "  </tbody>\n",
       "</table>\n",
       "<p>1425013 rows × 7 columns</p>\n",
       "</div>"
      ],
      "text/plain": [
       "                    tweet_id           writer   post_date  \\\n",
       "0         550441509175443456  VisualStockRSRC  1420070457   \n",
       "1         550441672312512512      KeralaGuy77  1420070496   \n",
       "4         550443807834402816     i_Know_First  1420071005   \n",
       "5         550443808606126081    aaplstocknews  1420071005   \n",
       "6         550443809700851716       iknowfirst  1420071005   \n",
       "...                      ...              ...         ...   \n",
       "3717957  1212159254884433921    QuantWolfLine  1577836261   \n",
       "3717958  1212159275637886976       GMGRIFF_79  1577836266   \n",
       "3717959  1212159765914079234        TEEELAZER  1577836383   \n",
       "3717962  1212160410692046849      MoriaCrypto  1577836537   \n",
       "3717963  1212160477159206912         treabase  1577836553   \n",
       "\n",
       "                                                      body  comment_num  \\\n",
       "0        lx21 made $10,008  on $AAPL -Check it out! htt...            0   \n",
       "1        Insanity of today weirdo massive selling. $aap...            0   \n",
       "4        Swing Trading: Up To 8.91% Return In 14 Days h...            0   \n",
       "5        Swing Trading: Up To 8.91% Return In 14 Days h...            0   \n",
       "6        Swing Trading: Up To 8.91% Return In 14 Days h...            0   \n",
       "...                                                    ...          ...   \n",
       "3717957  Imagine calling your broker-dealer and wanting...            1   \n",
       "3717958  $AAPL yearly~ Heck of a year.. Jan. 2, 1999~ar...            0   \n",
       "3717959  That $SPY $SPX puuump in the last hour was the...            1   \n",
       "3717962  I don't discriminate. I own both $aapl and $ms...            1   \n",
       "3717963  $AAPL #patent 10,522,475 Vertical interconnect...            0   \n",
       "\n",
       "         retweet_num  like_num  \n",
       "0                  0         1  \n",
       "1                  0         0  \n",
       "4                  0         1  \n",
       "5                  0         1  \n",
       "6                  0         1  \n",
       "...              ...       ...  \n",
       "3717957            0         1  \n",
       "3717958            0         1  \n",
       "3717959            0         6  \n",
       "3717962            0         1  \n",
       "3717963            0         0  \n",
       "\n",
       "[1425013 rows x 7 columns]"
      ]
     },
     "execution_count": 11,
     "metadata": {},
     "output_type": "execute_result"
    }
   ],
   "source": [
    "aapl_tweets = tweets[tweets['tweet_id'].isin(ids)]\n",
    "aapl_tweets"
   ]
  },
  {
   "cell_type": "code",
   "execution_count": 12,
   "metadata": {},
   "outputs": [
    {
     "data": {
      "text/plain": [
       "1420070457"
      ]
     },
     "execution_count": 12,
     "metadata": {},
     "output_type": "execute_result"
    }
   ],
   "source": [
    "d_example = aapl_tweets.loc[0]['post_date']\n",
    "d_example"
   ]
  },
  {
   "cell_type": "code",
   "execution_count": 13,
   "metadata": {},
   "outputs": [],
   "source": [
    "import datetime"
   ]
  },
  {
   "cell_type": "code",
   "execution_count": 15,
   "metadata": {},
   "outputs": [
    {
     "data": {
      "text/plain": [
       "'2014-12-31T17:00:57'"
      ]
     },
     "execution_count": 15,
     "metadata": {},
     "output_type": "execute_result"
    }
   ],
   "source": [
    "datetime.datetime.fromtimestamp(d_example).isoformat()"
   ]
  },
  {
   "cell_type": "code",
   "execution_count": 16,
   "metadata": {},
   "outputs": [
    {
     "name": "stderr",
     "output_type": "stream",
     "text": [
      "/tmp/ipykernel_15002/258164601.py:1: SettingWithCopyWarning: \n",
      "A value is trying to be set on a copy of a slice from a DataFrame.\n",
      "Try using .loc[row_indexer,col_indexer] = value instead\n",
      "\n",
      "See the caveats in the documentation: https://pandas.pydata.org/pandas-docs/stable/user_guide/indexing.html#returning-a-view-versus-a-copy\n",
      "  aapl_tweets['post_date'] = pd.to_datetime(aapl_tweets['post_date'].apply(lambda x: datetime.datetime.fromtimestamp(x).isoformat()))\n"
     ]
    }
   ],
   "source": [
    "aapl_tweets['post_date'] = pd.to_datetime(aapl_tweets['post_date'].apply(lambda x: datetime.datetime.fromtimestamp(x).isoformat()))"
   ]
  },
  {
   "cell_type": "code",
   "execution_count": 86,
   "metadata": {},
   "outputs": [],
   "source": [
    "mask = (aapl_tweets['post_date'] >= pd.to_datetime(1530496984, unit='s')) & (aapl_tweets['post_date'] <= pd.to_datetime(1538445784, unit='s'))"
   ]
  },
  {
   "cell_type": "code",
   "execution_count": 87,
   "metadata": {},
   "outputs": [],
   "source": [
    "time_tweets = aapl_tweets[mask]"
   ]
  },
  {
   "cell_type": "code",
   "execution_count": 96,
   "metadata": {},
   "outputs": [
    {
     "data": {
      "text/plain": [
       "93"
      ]
     },
     "execution_count": 96,
     "metadata": {},
     "output_type": "execute_result"
    }
   ],
   "source": [
    "gb_date = time_tweets.groupby(time_tweets.post_date.dt.strftime('%m-%d'))\n",
    "counts = gb_date.count()['tweet_id'].to_numpy()\n",
    "c = gb_date.count()['tweet_id']\n",
    "idx = list(gb_date.indices.keys())\n",
    "len(idx)"
   ]
  },
  {
   "cell_type": "code",
   "execution_count": 89,
   "metadata": {},
   "outputs": [],
   "source": [
    "m = c.rolling(15).mean()\n",
    "s = c.rolling(15).std()"
   ]
  },
  {
   "cell_type": "code",
   "execution_count": 90,
   "metadata": {},
   "outputs": [],
   "source": [
    "import matplotlib.pyplot as plt"
   ]
  },
  {
   "cell_type": "code",
   "execution_count": 91,
   "metadata": {},
   "outputs": [
    {
     "data": {
      "image/png": "[encoded data removed]",
      "text/plain": [
       "<Figure size 640x480 with 1 Axes>"
      ]
     },
     "metadata": {},
     "output_type": "display_data"
    }
   ],
   "source": [
    "plt.xticks(rotation=90)\n",
    "plt.bar(idx, counts, color='orange')\n",
    "plt.plot(m,color='r')\n",
    "plt.plot(m-s,color='g')\n",
    "plt.plot(m+s,color='g')\n",
    "plt.tight_layout()"
   ]
  },
  {
   "cell_type": "code",
   "execution_count": 92,
   "metadata": {},
   "outputs": [
    {
     "data": {
      "text/html": [
       "<div>\n",
       "<style scoped>\n",
       "    .dataframe tbody tr th:only-of-type {\n",
       "        vertical-align: middle;\n",
       "    }\n",
       "\n",
       "    .dataframe tbody tr th {\n",
       "        vertical-align: top;\n",
       "    }\n",
       "\n",
       "    .dataframe thead th {\n",
       "        text-align: right;\n",
       "    }\n",
       "</style>\n",
       "<table border=\"1\" class=\"dataframe\">\n",
       "  <thead>\n",
       "    <tr style=\"text-align: right;\">\n",
       "      <th></th>\n",
       "      <th>date</th>\n",
       "      <th>time</th>\n",
       "      <th>open</th>\n",
       "      <th>high</th>\n",
       "      <th>low</th>\n",
       "      <th>close</th>\n",
       "      <th>unknown</th>\n",
       "    </tr>\n",
       "  </thead>\n",
       "  <tbody>\n",
       "    <tr>\n",
       "      <th>0</th>\n",
       "      <td>2014-06-30</td>\n",
       "      <td>00:00</td>\n",
       "      <td>93.159</td>\n",
       "      <td>94.194</td>\n",
       "      <td>93.028</td>\n",
       "      <td>93.460</td>\n",
       "      <td>2799</td>\n",
       "    </tr>\n",
       "    <tr>\n",
       "      <th>1</th>\n",
       "      <td>2014-07-01</td>\n",
       "      <td>00:00</td>\n",
       "      <td>93.973</td>\n",
       "      <td>94.546</td>\n",
       "      <td>93.611</td>\n",
       "      <td>93.993</td>\n",
       "      <td>4787</td>\n",
       "    </tr>\n",
       "    <tr>\n",
       "      <th>2</th>\n",
       "      <td>2014-07-02</td>\n",
       "      <td>00:00</td>\n",
       "      <td>94.344</td>\n",
       "      <td>94.515</td>\n",
       "      <td>93.540</td>\n",
       "      <td>93.902</td>\n",
       "      <td>4476</td>\n",
       "    </tr>\n",
       "    <tr>\n",
       "      <th>3</th>\n",
       "      <td>2014-07-03</td>\n",
       "      <td>00:00</td>\n",
       "      <td>94.113</td>\n",
       "      <td>94.545</td>\n",
       "      <td>93.661</td>\n",
       "      <td>94.495</td>\n",
       "      <td>3454</td>\n",
       "    </tr>\n",
       "    <tr>\n",
       "      <th>4</th>\n",
       "      <td>2014-07-07</td>\n",
       "      <td>00:00</td>\n",
       "      <td>94.936</td>\n",
       "      <td>96.423</td>\n",
       "      <td>94.936</td>\n",
       "      <td>96.403</td>\n",
       "      <td>4638</td>\n",
       "    </tr>\n",
       "    <tr>\n",
       "      <th>...</th>\n",
       "      <td>...</td>\n",
       "      <td>...</td>\n",
       "      <td>...</td>\n",
       "      <td>...</td>\n",
       "      <td>...</td>\n",
       "      <td>...</td>\n",
       "      <td>...</td>\n",
       "    </tr>\n",
       "    <tr>\n",
       "      <th>1138</th>\n",
       "      <td>2019-01-28</td>\n",
       "      <td>00:00</td>\n",
       "      <td>156.250</td>\n",
       "      <td>156.490</td>\n",
       "      <td>153.650</td>\n",
       "      <td>155.920</td>\n",
       "      <td>62867</td>\n",
       "    </tr>\n",
       "    <tr>\n",
       "      <th>1139</th>\n",
       "      <td>2019-01-29</td>\n",
       "      <td>00:00</td>\n",
       "      <td>156.470</td>\n",
       "      <td>161.620</td>\n",
       "      <td>150.980</td>\n",
       "      <td>160.540</td>\n",
       "      <td>66595</td>\n",
       "    </tr>\n",
       "    <tr>\n",
       "      <th>1140</th>\n",
       "      <td>2019-01-30</td>\n",
       "      <td>00:00</td>\n",
       "      <td>161.680</td>\n",
       "      <td>166.110</td>\n",
       "      <td>160.220</td>\n",
       "      <td>165.660</td>\n",
       "      <td>70344</td>\n",
       "    </tr>\n",
       "    <tr>\n",
       "      <th>1141</th>\n",
       "      <td>2019-01-31</td>\n",
       "      <td>00:00</td>\n",
       "      <td>166.100</td>\n",
       "      <td>168.980</td>\n",
       "      <td>164.530</td>\n",
       "      <td>166.770</td>\n",
       "      <td>62821</td>\n",
       "    </tr>\n",
       "    <tr>\n",
       "      <th>1142</th>\n",
       "      <td>2019-02-01</td>\n",
       "      <td>00:00</td>\n",
       "      <td>166.100</td>\n",
       "      <td>168.960</td>\n",
       "      <td>165.900</td>\n",
       "      <td>166.130</td>\n",
       "      <td>51990</td>\n",
       "    </tr>\n",
       "  </tbody>\n",
       "</table>\n",
       "<p>1143 rows × 7 columns</p>\n",
       "</div>"
      ],
      "text/plain": [
       "            date   time     open     high      low    close  unknown\n",
       "0     2014-06-30  00:00   93.159   94.194   93.028   93.460     2799\n",
       "1     2014-07-01  00:00   93.973   94.546   93.611   93.993     4787\n",
       "2     2014-07-02  00:00   94.344   94.515   93.540   93.902     4476\n",
       "3     2014-07-03  00:00   94.113   94.545   93.661   94.495     3454\n",
       "4     2014-07-07  00:00   94.936   96.423   94.936   96.403     4638\n",
       "...          ...    ...      ...      ...      ...      ...      ...\n",
       "1138  2019-01-28  00:00  156.250  156.490  153.650  155.920    62867\n",
       "1139  2019-01-29  00:00  156.470  161.620  150.980  160.540    66595\n",
       "1140  2019-01-30  00:00  161.680  166.110  160.220  165.660    70344\n",
       "1141  2019-01-31  00:00  166.100  168.980  164.530  166.770    62821\n",
       "1142  2019-02-01  00:00  166.100  168.960  165.900  166.130    51990\n",
       "\n",
       "[1143 rows x 7 columns]"
      ]
     },
     "execution_count": 92,
     "metadata": {},
     "output_type": "execute_result"
    }
   ],
   "source": [
    "apple_daily = pd.read_csv(\"./charts/APPLE1440.csv\")\n",
    "apple_daily"
   ]
  },
  {
   "cell_type": "code",
   "execution_count": null,
   "metadata": {},
   "outputs": [],
   "source": []
  },
  {
   "cell_type": "code",
   "execution_count": 102,
   "metadata": {},
   "outputs": [],
   "source": [
    "d_mask = (apple_daily['date'] >= '2018-06-31') & (apple_daily['date'] <= '2018-09-31')\n",
    "aapl = apple_daily[d_mask].sort_values(by='date')\n",
    "aapl['date'] = pd.to_datetime(aapl['date'])\n",
    "dates = aapl['date'].dt.strftime('%m-%d').tolist()"
   ]
  },
  {
   "cell_type": "code",
   "execution_count": 120,
   "metadata": {},
   "outputs": [
    {
     "data": {
      "image/png": "[encoded data removed]",
      "text/plain": [
       "<Figure size 640x480 with 2 Axes>"
      ]
     },
     "metadata": {},
     "output_type": "display_data"
    }
   ],
   "source": [
    "fig, ax1 = plt.subplots()\n",
    "\n",
    "color = 'tab:blue'\n",
    "ax1.set_xlabel('apple stock')\n",
    "ax1.set_ylabel('price', color=color)\n",
    "ax1.plot(dates, aapl['close'], color=color, label='appl stock')\n",
    "ax1.tick_params(axis='y', labelcolor=color)\n",
    "\n",
    "ax2 = ax1.twinx()  # instantiate a second axes that shares the same x-axis\n",
    "\n",
    "color = 'tab:orange'\n",
    "ax2.set_ylabel('number of tweets', color=color)  # we already handled the x-label with ax1\n",
    "ax2.bar(idx, counts, color=color, alpha=0.7)\n",
    "ax2.tick_params(axis='y', labelcolor=color)\n",
    "ax2.plot(m,color='r', alpha=0.7, label='20 day MA')\n",
    "ax2.plot(m+s,color='g', alpha=0.7, label='mu + 1sd')\n",
    "\n",
    "plt.xticks(dates[::10], dates[::10], rotation=90)\n",
    "\n",
    "fig.tight_layout()  # otherwise the right y-label is slightly clipped\n",
    "ax1.legend()\n",
    "ax2.legend()\n",
    "plt.title('apple stock price with number of tweets')\n",
    "\n",
    "plt.show()"
   ]
  }
 ],
 "metadata": {
  "kernelspec": {
   "display_name": "st",
   "language": "python",
   "name": "python3"
  },
  "language_info": {
   "codemirror_mode": {
    "name": "ipython",
    "version": 3
   },
   "file_extension": ".py",
   "mimetype": "text/x-python",
   "name": "python",
   "nbconvert_exporter": "python",
   "pygments_lexer": "ipython3",
   "version": "3.9.16"
  },
  "orig_nbformat": 4,
  "vscode": {
   "interpreter": {
    "hash": "383f718b6a8f9a7363d1fe19f0640b3689c47f8ac341c9edfd381e526839c95d"
   }
  }
 },
 "nbformat": 4,
 "nbformat_minor": 2
}
