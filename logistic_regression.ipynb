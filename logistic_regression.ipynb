{
 "cells": [
  {
   "cell_type": "code",
   "execution_count": 1,
   "metadata": {},
   "outputs": [],
   "source": [
    "import numpy as np\n",
    "import pandas as pd\n",
    "from sklearn.feature_extraction.text import TfidfVectorizer\n",
    "from sklearn.linear_model import LogisticRegression\n",
    "from sklearn.model_selection import train_test_split"
   ]
  },
  {
   "cell_type": "code",
   "execution_count": 2,
   "metadata": {},
   "outputs": [
    {
     "data": {
      "text/html": [
       "<div>\n",
       "<style scoped>\n",
       "    .dataframe tbody tr th:only-of-type {\n",
       "        vertical-align: middle;\n",
       "    }\n",
       "\n",
       "    .dataframe tbody tr th {\n",
       "        vertical-align: top;\n",
       "    }\n",
       "\n",
       "    .dataframe thead th {\n",
       "        text-align: right;\n",
       "    }\n",
       "</style>\n",
       "<table border=\"1\" class=\"dataframe\">\n",
       "  <thead>\n",
       "    <tr style=\"text-align: right;\">\n",
       "      <th></th>\n",
       "      <th>text</th>\n",
       "      <th>dir</th>\n",
       "    </tr>\n",
       "  </thead>\n",
       "  <tbody>\n",
       "    <tr>\n",
       "      <th>0</th>\n",
       "      <td>new.york.cnn.busi.appl.said.fix.facetim.bug.le...</td>\n",
       "      <td>1.0</td>\n",
       "    </tr>\n",
       "    <tr>\n",
       "      <th>1</th>\n",
       "      <td>new.york.cnn.busi.job.number.januari.solid.ano...</td>\n",
       "      <td>1.0</td>\n",
       "    </tr>\n",
       "    <tr>\n",
       "      <th>2</th>\n",
       "      <td>new.york.cnn.busi.job.number.januari.solid.ano...</td>\n",
       "      <td>1.0</td>\n",
       "    </tr>\n",
       "    <tr>\n",
       "      <th>3</th>\n",
       "      <td>fitbit.appl.better.smartwatch.play.might.surpr...</td>\n",
       "      <td>1.0</td>\n",
       "    </tr>\n",
       "    <tr>\n",
       "      <th>4</th>\n",
       "      <td>post.abmn.staff.feb.st.comment.appl.nasdaq.aap...</td>\n",
       "      <td>1.0</td>\n",
       "    </tr>\n",
       "    <tr>\n",
       "      <th>...</th>\n",
       "      <td>...</td>\n",
       "      <td>...</td>\n",
       "    </tr>\n",
       "    <tr>\n",
       "      <th>32927</th>\n",
       "      <td>shutterstock.photo.disappoint.wall.street.rebo...</td>\n",
       "      <td>-1.0</td>\n",
       "    </tr>\n",
       "    <tr>\n",
       "      <th>32928</th>\n",
       "      <td>shutterstock.photo.index.enjoy.strong.week.ove...</td>\n",
       "      <td>-1.0</td>\n",
       "    </tr>\n",
       "    <tr>\n",
       "      <th>32929</th>\n",
       "      <td>top.stock.trade.first.thing.monday.acb.amzn.ge...</td>\n",
       "      <td>-1.0</td>\n",
       "    </tr>\n",
       "    <tr>\n",
       "      <th>32930</th>\n",
       "      <td>appl.aapl.say.fix.facetim.bug.let.iphon.user.s...</td>\n",
       "      <td>-1.0</td>\n",
       "    </tr>\n",
       "    <tr>\n",
       "      <th>32931</th>\n",
       "      <td>appl.apolog.group.facetim.bug.allow.peopl.eave...</td>\n",
       "      <td>-1.0</td>\n",
       "    </tr>\n",
       "  </tbody>\n",
       "</table>\n",
       "<p>32932 rows × 2 columns</p>\n",
       "</div>"
      ],
      "text/plain": [
       "                                                    text  dir\n",
       "0      new.york.cnn.busi.appl.said.fix.facetim.bug.le...  1.0\n",
       "1      new.york.cnn.busi.job.number.januari.solid.ano...  1.0\n",
       "2      new.york.cnn.busi.job.number.januari.solid.ano...  1.0\n",
       "3      fitbit.appl.better.smartwatch.play.might.surpr...  1.0\n",
       "4      post.abmn.staff.feb.st.comment.appl.nasdaq.aap...  1.0\n",
       "...                                                  ...  ...\n",
       "32927  shutterstock.photo.disappoint.wall.street.rebo... -1.0\n",
       "32928  shutterstock.photo.index.enjoy.strong.week.ove... -1.0\n",
       "32929  top.stock.trade.first.thing.monday.acb.amzn.ge... -1.0\n",
       "32930  appl.aapl.say.fix.facetim.bug.let.iphon.user.s... -1.0\n",
       "32931  appl.apolog.group.facetim.bug.allow.peopl.eave... -1.0\n",
       "\n",
       "[32932 rows x 2 columns]"
      ]
     },
     "execution_count": 2,
     "metadata": {},
     "output_type": "execute_result"
    }
   ],
   "source": [
    "ds = pd.read_csv('./log_datasets/APPLE_text_hourly.csv')\n",
    "ds"
   ]
  },
  {
   "cell_type": "code",
   "execution_count": 20,
   "metadata": {},
   "outputs": [],
   "source": [
    "news_data = pd.read_csv('./datasets/news_data_filtered.csv')"
   ]
  },
  {
   "cell_type": "code",
   "execution_count": 68,
   "metadata": {},
   "outputs": [],
   "source": [
    "vectorizer = TfidfVectorizer(binary=True, max_features=8000)\n",
    "vectorizer.fit(news_data['text'])\n",
    "features = vectorizer.transform(ds['text'])"
   ]
  },
  {
   "cell_type": "code",
   "execution_count": 27,
   "metadata": {},
   "outputs": [],
   "source": [
    "labels = ds['dir'].to_numpy()"
   ]
  },
  {
   "cell_type": "code",
   "execution_count": 69,
   "metadata": {},
   "outputs": [],
   "source": [
    "f_train, f_test, y_train, y_test = train_test_split(features, labels, test_size=0.2, random_state=42)"
   ]
  },
  {
   "cell_type": "code",
   "execution_count": 70,
   "metadata": {},
   "outputs": [],
   "source": [
    "clf = LogisticRegression(penalty='l1', solver='liblinear').fit(f_train, y_train)"
   ]
  },
  {
   "cell_type": "code",
   "execution_count": 71,
   "metadata": {},
   "outputs": [
    {
     "data": {
      "text/plain": [
       "0.6641870350690755"
      ]
     },
     "execution_count": 71,
     "metadata": {},
     "output_type": "execute_result"
    }
   ],
   "source": [
    "clf.score(f_test,y_test)"
   ]
  },
  {
   "cell_type": "code",
   "execution_count": 72,
   "metadata": {},
   "outputs": [],
   "source": [
    "amazon_ds = pd.read_csv('./log_datasets/AMAZON_text_hourly.csv')"
   ]
  },
  {
   "cell_type": "code",
   "execution_count": 74,
   "metadata": {},
   "outputs": [
    {
     "data": {
      "text/plain": [
       "0.6670715044785183"
      ]
     },
     "execution_count": 74,
     "metadata": {},
     "output_type": "execute_result"
    }
   ],
   "source": [
    "features = vectorizer.transform(amazon_ds['text'])\n",
    "labels = amazon_ds['dir'].to_numpy()\n",
    "f_train, f_test, y_train, y_test = train_test_split(features, labels, test_size=0.2, random_state=42)\n",
    "clf = LogisticRegression(penalty='l1', solver='liblinear').fit(f_train, y_train)\n",
    "clf.score(f_test,y_test)"
   ]
  }
 ],
 "metadata": {
  "kernelspec": {
   "display_name": "st",
   "language": "python",
   "name": "python3"
  },
  "language_info": {
   "codemirror_mode": {
    "name": "ipython",
    "version": 3
   },
   "file_extension": ".py",
   "mimetype": "text/x-python",
   "name": "python",
   "nbconvert_exporter": "python",
   "pygments_lexer": "ipython3",
   "version": "3.9.16"
  },
  "orig_nbformat": 4
 },
 "nbformat": 4,
 "nbformat_minor": 2
}
